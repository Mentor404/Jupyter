{
 "cells": [
  {
   "cell_type": "code",
   "id": "initial_id",
   "metadata": {
    "collapsed": true,
    "ExecuteTime": {
     "end_time": "2024-09-01T14:03:35.457045Z",
     "start_time": "2024-09-01T14:03:35.454775Z"
    }
   },
   "source": [
    "import seaborn as sns\n",
    "import pandas as pd"
   ],
   "outputs": [],
   "execution_count": 15
  },
  {
   "metadata": {},
   "cell_type": "markdown",
   "source": "## Cria o frame do pandas com os dados do CSV",
   "id": "de1d348afd445850"
  },
  {
   "metadata": {
    "ExecuteTime": {
     "end_time": "2024-09-01T14:03:35.618057Z",
     "start_time": "2024-09-01T14:03:35.473819Z"
    }
   },
   "cell_type": "code",
   "source": "acid = pd.read_csv('./data/cat_acidentes.csv', sep=';')",
   "id": "a2c39ea28fde91be",
   "outputs": [],
   "execution_count": 16
  },
  {
   "metadata": {
    "ExecuteTime": {
     "end_time": "2024-09-01T14:03:35.651034Z",
     "start_time": "2024-09-01T14:03:35.641513Z"
    }
   },
   "cell_type": "code",
   "source": "acid.head()",
   "id": "40d0bcdf2fb31d68",
   "outputs": [
    {
     "data": {
      "text/plain": [
       "         data_extracao  predial1  queda_arr                 data  feridos  \\\n",
       "0  2024-08-01 01:32:25       0.0        0.0  2020-10-17 00:00:00        1   \n",
       "1  2024-08-01 01:32:25    6699.0        0.0  2019-01-01 00:00:00        1   \n",
       "2  2024-08-01 01:32:25     411.0        0.0  2019-01-01 00:00:00        1   \n",
       "3  2024-08-01 01:32:25    1500.0        0.0  2019-01-01 00:00:00        4   \n",
       "4  2024-08-01 01:32:25    8799.0        0.0  2019-01-01 00:00:00        5   \n",
       "\n",
       "   feridos_gr  mortes  morte_post  fatais  auto  ...    longitude  \\\n",
       "0           0       0           0       0     3  ...          0.0   \n",
       "1           0       0           0       0     3  ... -817840587.0   \n",
       "2           0       0           0       0     2  ... -826760803.0   \n",
       "3           2       0           0       0     1  ... -827227451.0   \n",
       "4           0       0           0       0     3  ... -820146494.0   \n",
       "\n",
       "       latitude                    log1              log2     tipo_acid  \\\n",
       "0  0.000000e+00        R MARCOS MOREIRA  R GASTON ENGLERT  ABALROAMENTO   \n",
       "1  1.295680e+09         AV ASSIS BRASIL               NaN  ABALROAMENTO   \n",
       "2  1.292030e+09      R DR BARROS CASSAL               NaN  ABALROAMENTO   \n",
       "3  1.285404e+09  AV FABIO ARAUJO SANTOS               NaN        CHOQUE   \n",
       "4  1.288712e+09             AV IPIRANGA               NaN      COLISÃƒO   \n",
       "\n",
       "        dia_sem              hora  noite_dia  regiao  consorcio  \n",
       "0       SÃBADO  19:00:00.0000000      NOITE   NORTE        NaN  \n",
       "1  TERÃ‡A-FEIRA  02:45:00.0000000      NOITE   NORTE        NaN  \n",
       "2  TERÃ‡A-FEIRA  07:36:00.0000000        DIA  CENTRO        NaN  \n",
       "3  TERÃ‡A-FEIRA  16:50:00.0000000        DIA     SUL        NaN  \n",
       "4  TERÃ‡A-FEIRA  19:00:00.0000000      NOITE   LESTE        NaN  \n",
       "\n",
       "[5 rows x 34 columns]"
      ],
      "text/html": [
       "<div>\n",
       "<style scoped>\n",
       "    .dataframe tbody tr th:only-of-type {\n",
       "        vertical-align: middle;\n",
       "    }\n",
       "\n",
       "    .dataframe tbody tr th {\n",
       "        vertical-align: top;\n",
       "    }\n",
       "\n",
       "    .dataframe thead th {\n",
       "        text-align: right;\n",
       "    }\n",
       "</style>\n",
       "<table border=\"1\" class=\"dataframe\">\n",
       "  <thead>\n",
       "    <tr style=\"text-align: right;\">\n",
       "      <th></th>\n",
       "      <th>data_extracao</th>\n",
       "      <th>predial1</th>\n",
       "      <th>queda_arr</th>\n",
       "      <th>data</th>\n",
       "      <th>feridos</th>\n",
       "      <th>feridos_gr</th>\n",
       "      <th>mortes</th>\n",
       "      <th>morte_post</th>\n",
       "      <th>fatais</th>\n",
       "      <th>auto</th>\n",
       "      <th>...</th>\n",
       "      <th>longitude</th>\n",
       "      <th>latitude</th>\n",
       "      <th>log1</th>\n",
       "      <th>log2</th>\n",
       "      <th>tipo_acid</th>\n",
       "      <th>dia_sem</th>\n",
       "      <th>hora</th>\n",
       "      <th>noite_dia</th>\n",
       "      <th>regiao</th>\n",
       "      <th>consorcio</th>\n",
       "    </tr>\n",
       "  </thead>\n",
       "  <tbody>\n",
       "    <tr>\n",
       "      <th>0</th>\n",
       "      <td>2024-08-01 01:32:25</td>\n",
       "      <td>0.0</td>\n",
       "      <td>0.0</td>\n",
       "      <td>2020-10-17 00:00:00</td>\n",
       "      <td>1</td>\n",
       "      <td>0</td>\n",
       "      <td>0</td>\n",
       "      <td>0</td>\n",
       "      <td>0</td>\n",
       "      <td>3</td>\n",
       "      <td>...</td>\n",
       "      <td>0.0</td>\n",
       "      <td>0.000000e+00</td>\n",
       "      <td>R MARCOS MOREIRA</td>\n",
       "      <td>R GASTON ENGLERT</td>\n",
       "      <td>ABALROAMENTO</td>\n",
       "      <td>SÃBADO</td>\n",
       "      <td>19:00:00.0000000</td>\n",
       "      <td>NOITE</td>\n",
       "      <td>NORTE</td>\n",
       "      <td>NaN</td>\n",
       "    </tr>\n",
       "    <tr>\n",
       "      <th>1</th>\n",
       "      <td>2024-08-01 01:32:25</td>\n",
       "      <td>6699.0</td>\n",
       "      <td>0.0</td>\n",
       "      <td>2019-01-01 00:00:00</td>\n",
       "      <td>1</td>\n",
       "      <td>0</td>\n",
       "      <td>0</td>\n",
       "      <td>0</td>\n",
       "      <td>0</td>\n",
       "      <td>3</td>\n",
       "      <td>...</td>\n",
       "      <td>-817840587.0</td>\n",
       "      <td>1.295680e+09</td>\n",
       "      <td>AV ASSIS BRASIL</td>\n",
       "      <td>NaN</td>\n",
       "      <td>ABALROAMENTO</td>\n",
       "      <td>TERÃ‡A-FEIRA</td>\n",
       "      <td>02:45:00.0000000</td>\n",
       "      <td>NOITE</td>\n",
       "      <td>NORTE</td>\n",
       "      <td>NaN</td>\n",
       "    </tr>\n",
       "    <tr>\n",
       "      <th>2</th>\n",
       "      <td>2024-08-01 01:32:25</td>\n",
       "      <td>411.0</td>\n",
       "      <td>0.0</td>\n",
       "      <td>2019-01-01 00:00:00</td>\n",
       "      <td>1</td>\n",
       "      <td>0</td>\n",
       "      <td>0</td>\n",
       "      <td>0</td>\n",
       "      <td>0</td>\n",
       "      <td>2</td>\n",
       "      <td>...</td>\n",
       "      <td>-826760803.0</td>\n",
       "      <td>1.292030e+09</td>\n",
       "      <td>R DR BARROS CASSAL</td>\n",
       "      <td>NaN</td>\n",
       "      <td>ABALROAMENTO</td>\n",
       "      <td>TERÃ‡A-FEIRA</td>\n",
       "      <td>07:36:00.0000000</td>\n",
       "      <td>DIA</td>\n",
       "      <td>CENTRO</td>\n",
       "      <td>NaN</td>\n",
       "    </tr>\n",
       "    <tr>\n",
       "      <th>3</th>\n",
       "      <td>2024-08-01 01:32:25</td>\n",
       "      <td>1500.0</td>\n",
       "      <td>0.0</td>\n",
       "      <td>2019-01-01 00:00:00</td>\n",
       "      <td>4</td>\n",
       "      <td>2</td>\n",
       "      <td>0</td>\n",
       "      <td>0</td>\n",
       "      <td>0</td>\n",
       "      <td>1</td>\n",
       "      <td>...</td>\n",
       "      <td>-827227451.0</td>\n",
       "      <td>1.285404e+09</td>\n",
       "      <td>AV FABIO ARAUJO SANTOS</td>\n",
       "      <td>NaN</td>\n",
       "      <td>CHOQUE</td>\n",
       "      <td>TERÃ‡A-FEIRA</td>\n",
       "      <td>16:50:00.0000000</td>\n",
       "      <td>DIA</td>\n",
       "      <td>SUL</td>\n",
       "      <td>NaN</td>\n",
       "    </tr>\n",
       "    <tr>\n",
       "      <th>4</th>\n",
       "      <td>2024-08-01 01:32:25</td>\n",
       "      <td>8799.0</td>\n",
       "      <td>0.0</td>\n",
       "      <td>2019-01-01 00:00:00</td>\n",
       "      <td>5</td>\n",
       "      <td>0</td>\n",
       "      <td>0</td>\n",
       "      <td>0</td>\n",
       "      <td>0</td>\n",
       "      <td>3</td>\n",
       "      <td>...</td>\n",
       "      <td>-820146494.0</td>\n",
       "      <td>1.288712e+09</td>\n",
       "      <td>AV IPIRANGA</td>\n",
       "      <td>NaN</td>\n",
       "      <td>COLISÃƒO</td>\n",
       "      <td>TERÃ‡A-FEIRA</td>\n",
       "      <td>19:00:00.0000000</td>\n",
       "      <td>NOITE</td>\n",
       "      <td>LESTE</td>\n",
       "      <td>NaN</td>\n",
       "    </tr>\n",
       "  </tbody>\n",
       "</table>\n",
       "<p>5 rows × 34 columns</p>\n",
       "</div>"
      ]
     },
     "execution_count": 17,
     "metadata": {},
     "output_type": "execute_result"
    }
   ],
   "execution_count": 17
  },
  {
   "metadata": {},
   "cell_type": "markdown",
   "source": "## Conta a incidência por rua",
   "id": "5ddea444849af2d6"
  },
  {
   "metadata": {
    "ExecuteTime": {
     "end_time": "2024-09-01T14:03:35.705978Z",
     "start_time": "2024-09-01T14:03:35.696888Z"
    }
   },
   "cell_type": "code",
   "source": "acid.log1.value_counts().head(30)",
   "id": "27c23d04e0cdf214",
   "outputs": [
    {
     "data": {
      "text/plain": [
       "log1\n",
       "AV PROTASIO ALVES                    2090\n",
       "AV IPIRANGA                          1868\n",
       "AV ASSIS BRASIL                      1731\n",
       "AV BENTO GONCALVES                   1418\n",
       "AV SERTORIO                          1121\n",
       "AV IPIRANGA                           948\n",
       "AV PROTASIO ALVES                     930\n",
       "AV PROF OSCAR PEREIRA                 905\n",
       "AV ASSIS BRASIL                       845\n",
       "ESTR JOAO DE OLIVEIRA REMIAO          744\n",
       "AV CAVALHADA                          727\n",
       "AV BENTO GONCALVES                    688\n",
       "AV JUCA BATISTA                       666\n",
       "AV BALTAZAR DE OLIVEIRA GARCIA        641\n",
       "AV SERTORIO                           615\n",
       "AV EDGAR PIRES DE CASTRO              565\n",
       "AV FARRAPOS                           546\n",
       "ESTR JOAO ANTONIO SILVEIRA            514\n",
       "AV JOAO PESSOA                        498\n",
       "AV CRISTOVAO COLOMBO                  468\n",
       "AV CARLOS GOMES                       466\n",
       "AV DR NILO PECANHA                    427\n",
       "AV WENCESLAU ESCOBAR                  411\n",
       "AV ANTONIO CARVALHO                   390\n",
       "AV CEARA                              377\n",
       "AV BORGES DE MEDEIROS                 357\n",
       "AV BERNARDINO SILVEIRA DE AMORIM      346\n",
       "AV FARRAPOS                           341\n",
       "R RAMIRO BARCELOS                     335\n",
       "AV PROF OSCAR PEREIRA                 331\n",
       "Name: count, dtype: int64"
      ]
     },
     "execution_count": 18,
     "metadata": {},
     "output_type": "execute_result"
    }
   ],
   "execution_count": 18
  },
  {
   "metadata": {},
   "cell_type": "markdown",
   "source": "## Agrupa as ruas iguais",
   "id": "c12b49c78412b798"
  },
  {
   "metadata": {
    "ExecuteTime": {
     "end_time": "2024-09-01T14:03:35.769279Z",
     "start_time": "2024-09-01T14:03:35.756085Z"
    }
   },
   "cell_type": "code",
   "source": "acid.loc[:,'log1'] = acid.loc[:,'log1'].apply(lambda x: str(x).strip())",
   "id": "45034cbdef0bf91f",
   "outputs": [],
   "execution_count": 19
  },
  {
   "metadata": {
    "ExecuteTime": {
     "end_time": "2024-09-01T14:03:35.825296Z",
     "start_time": "2024-09-01T14:03:35.816563Z"
    }
   },
   "cell_type": "code",
   "source": "acid.log1.value_counts().head(30)",
   "id": "4c77a9da1af23279",
   "outputs": [
    {
     "data": {
      "text/plain": [
       "log1\n",
       "AV PROTASIO ALVES                   3020\n",
       "AV IPIRANGA                         2816\n",
       "AV ASSIS BRASIL                     2576\n",
       "AV BENTO GONCALVES                  2106\n",
       "AV SERTORIO                         1736\n",
       "AV PROF OSCAR PEREIRA               1236\n",
       "ESTR JOAO DE OLIVEIRA REMIAO         983\n",
       "AV JUCA BATISTA                      922\n",
       "AV BALTAZAR DE OLIVEIRA GARCIA       920\n",
       "AV FARRAPOS                          887\n",
       "AV JOAO PESSOA                       735\n",
       "AV CAVALHADA                         727\n",
       "AV EDGAR PIRES DE CASTRO             709\n",
       "AV CRISTOVAO COLOMBO                 670\n",
       "ESTR JOAO ANTONIO SILVEIRA           655\n",
       "AV DR NILO PECANHA                   625\n",
       "AV CARLOS GOMES                      624\n",
       "AV WENCESLAU ESCOBAR                 544\n",
       "AV ANTONIO CARVALHO                  523\n",
       "R VOLUNTARIOS DA PATRIA              523\n",
       "AV CEL APARICIO BORGES               496\n",
       "AV BORGES DE MEDEIROS                493\n",
       "AV PRESIDENTE CASTELO BRANCO         485\n",
       "AV CEARA                             479\n",
       "AV OSVALDO ARANHA                    473\n",
       "AV PLINIO BRASIL MILANO              463\n",
       "R RAMIRO BARCELOS                    453\n",
       "AV BERNARDINO SILVEIRA DE AMORIM     450\n",
       "AV NONOAI                            408\n",
       "AV OTTO NIEMEYER                     404\n",
       "Name: count, dtype: int64"
      ]
     },
     "execution_count": 20,
     "metadata": {},
     "output_type": "execute_result"
    }
   ],
   "execution_count": 20
  },
  {
   "metadata": {},
   "cell_type": "markdown",
   "source": "## Cria uma ordenação e exibe o gráfico das ruas",
   "id": "124263c96a20900f"
  },
  {
   "metadata": {
    "ExecuteTime": {
     "end_time": "2024-09-01T14:03:36.135670Z",
     "start_time": "2024-09-01T14:03:35.921114Z"
    }
   },
   "cell_type": "code",
   "source": [
    "acid_order=acid.groupby('log1')['log1'].count().sort_values(ascending=False).iloc[0:20].index.values\n",
    "sns.countplot(data=acid, y='log1', order=acid_order)"
   ],
   "id": "ecda52d482c9d03b",
   "outputs": [
    {
     "data": {
      "text/plain": [
       "<Axes: xlabel='count', ylabel='log1'>"
      ]
     },
     "execution_count": 21,
     "metadata": {},
     "output_type": "execute_result"
    },
    {
     "data": {
      "text/plain": [
       "<Figure size 640x480 with 1 Axes>"
      ],
      "image/png": "[encoded data removed]"
     },
     "metadata": {},
     "output_type": "display_data"
    }
   ],
   "execution_count": 21
  },
  {
   "metadata": {},
   "cell_type": "markdown",
   "source": "## Exibe o gráfico do período do dia",
   "id": "5b5dcf53db44467"
  },
  {
   "metadata": {
    "ExecuteTime": {
     "end_time": "2024-09-01T14:03:36.169131Z",
     "start_time": "2024-09-01T14:03:36.158005Z"
    }
   },
   "cell_type": "code",
   "source": "acid.head()",
   "id": "9a914c6ba77519b8",
   "outputs": [
    {
     "data": {
      "text/plain": [
       "         data_extracao  predial1  queda_arr                 data  feridos  \\\n",
       "0  2024-08-01 01:32:25       0.0        0.0  2020-10-17 00:00:00        1   \n",
       "1  2024-08-01 01:32:25    6699.0        0.0  2019-01-01 00:00:00        1   \n",
       "2  2024-08-01 01:32:25     411.0        0.0  2019-01-01 00:00:00        1   \n",
       "3  2024-08-01 01:32:25    1500.0        0.0  2019-01-01 00:00:00        4   \n",
       "4  2024-08-01 01:32:25    8799.0        0.0  2019-01-01 00:00:00        5   \n",
       "\n",
       "   feridos_gr  mortes  morte_post  fatais  auto  ...    longitude  \\\n",
       "0           0       0           0       0     3  ...          0.0   \n",
       "1           0       0           0       0     3  ... -817840587.0   \n",
       "2           0       0           0       0     2  ... -826760803.0   \n",
       "3           2       0           0       0     1  ... -827227451.0   \n",
       "4           0       0           0       0     3  ... -820146494.0   \n",
       "\n",
       "       latitude                    log1              log2     tipo_acid  \\\n",
       "0  0.000000e+00        R MARCOS MOREIRA  R GASTON ENGLERT  ABALROAMENTO   \n",
       "1  1.295680e+09         AV ASSIS BRASIL               NaN  ABALROAMENTO   \n",
       "2  1.292030e+09      R DR BARROS CASSAL               NaN  ABALROAMENTO   \n",
       "3  1.285404e+09  AV FABIO ARAUJO SANTOS               NaN        CHOQUE   \n",
       "4  1.288712e+09             AV IPIRANGA               NaN      COLISÃƒO   \n",
       "\n",
       "        dia_sem              hora  noite_dia  regiao  consorcio  \n",
       "0       SÃBADO  19:00:00.0000000      NOITE   NORTE        NaN  \n",
       "1  TERÃ‡A-FEIRA  02:45:00.0000000      NOITE   NORTE        NaN  \n",
       "2  TERÃ‡A-FEIRA  07:36:00.0000000        DIA  CENTRO        NaN  \n",
       "3  TERÃ‡A-FEIRA  16:50:00.0000000        DIA     SUL        NaN  \n",
       "4  TERÃ‡A-FEIRA  19:00:00.0000000      NOITE   LESTE        NaN  \n",
       "\n",
       "[5 rows x 34 columns]"
      ],
      "text/html": [
       "<div>\n",
       "<style scoped>\n",
       "    .dataframe tbody tr th:only-of-type {\n",
       "        vertical-align: middle;\n",
       "    }\n",
       "\n",
       "    .dataframe tbody tr th {\n",
       "        vertical-align: top;\n",
       "    }\n",
       "\n",
       "    .dataframe thead th {\n",
       "        text-align: right;\n",
       "    }\n",
       "</style>\n",
       "<table border=\"1\" class=\"dataframe\">\n",
       "  <thead>\n",
       "    <tr style=\"text-align: right;\">\n",
       "      <th></th>\n",
       "      <th>data_extracao</th>\n",
       "      <th>predial1</th>\n",
       "      <th>queda_arr</th>\n",
       "      <th>data</th>\n",
       "      <th>feridos</th>\n",
       "      <th>feridos_gr</th>\n",
       "      <th>mortes</th>\n",
       "      <th>morte_post</th>\n",
       "      <th>fatais</th>\n",
       "      <th>auto</th>\n",
       "      <th>...</th>\n",
       "      <th>longitude</th>\n",
       "      <th>latitude</th>\n",
       "      <th>log1</th>\n",
       "      <th>log2</th>\n",
       "      <th>tipo_acid</th>\n",
       "      <th>dia_sem</th>\n",
       "      <th>hora</th>\n",
       "      <th>noite_dia</th>\n",
       "      <th>regiao</th>\n",
       "      <th>consorcio</th>\n",
       "    </tr>\n",
       "  </thead>\n",
       "  <tbody>\n",
       "    <tr>\n",
       "      <th>0</th>\n",
       "      <td>2024-08-01 01:32:25</td>\n",
       "      <td>0.0</td>\n",
       "      <td>0.0</td>\n",
       "      <td>2020-10-17 00:00:00</td>\n",
       "      <td>1</td>\n",
       "      <td>0</td>\n",
       "      <td>0</td>\n",
       "      <td>0</td>\n",
       "      <td>0</td>\n",
       "      <td>3</td>\n",
       "      <td>...</td>\n",
       "      <td>0.0</td>\n",
       "      <td>0.000000e+00</td>\n",
       "      <td>R MARCOS MOREIRA</td>\n",
       "      <td>R GASTON ENGLERT</td>\n",
       "      <td>ABALROAMENTO</td>\n",
       "      <td>SÃBADO</td>\n",
       "      <td>19:00:00.0000000</td>\n",
       "      <td>NOITE</td>\n",
       "      <td>NORTE</td>\n",
       "      <td>NaN</td>\n",
       "    </tr>\n",
       "    <tr>\n",
       "      <th>1</th>\n",
       "      <td>2024-08-01 01:32:25</td>\n",
       "      <td>6699.0</td>\n",
       "      <td>0.0</td>\n",
       "      <td>2019-01-01 00:00:00</td>\n",
       "      <td>1</td>\n",
       "      <td>0</td>\n",
       "      <td>0</td>\n",
       "      <td>0</td>\n",
       "      <td>0</td>\n",
       "      <td>3</td>\n",
       "      <td>...</td>\n",
       "      <td>-817840587.0</td>\n",
       "      <td>1.295680e+09</td>\n",
       "      <td>AV ASSIS BRASIL</td>\n",
       "      <td>NaN</td>\n",
       "      <td>ABALROAMENTO</td>\n",
       "      <td>TERÃ‡A-FEIRA</td>\n",
       "      <td>02:45:00.0000000</td>\n",
       "      <td>NOITE</td>\n",
       "      <td>NORTE</td>\n",
       "      <td>NaN</td>\n",
       "    </tr>\n",
       "    <tr>\n",
       "      <th>2</th>\n",
       "      <td>2024-08-01 01:32:25</td>\n",
       "      <td>411.0</td>\n",
       "      <td>0.0</td>\n",
       "      <td>2019-01-01 00:00:00</td>\n",
       "      <td>1</td>\n",
       "      <td>0</td>\n",
       "      <td>0</td>\n",
       "      <td>0</td>\n",
       "      <td>0</td>\n",
       "      <td>2</td>\n",
       "      <td>...</td>\n",
       "      <td>-826760803.0</td>\n",
       "      <td>1.292030e+09</td>\n",
       "      <td>R DR BARROS CASSAL</td>\n",
       "      <td>NaN</td>\n",
       "      <td>ABALROAMENTO</td>\n",
       "      <td>TERÃ‡A-FEIRA</td>\n",
       "      <td>07:36:00.0000000</td>\n",
       "      <td>DIA</td>\n",
       "      <td>CENTRO</td>\n",
       "      <td>NaN</td>\n",
       "    </tr>\n",
       "    <tr>\n",
       "      <th>3</th>\n",
       "      <td>2024-08-01 01:32:25</td>\n",
       "      <td>1500.0</td>\n",
       "      <td>0.0</td>\n",
       "      <td>2019-01-01 00:00:00</td>\n",
       "      <td>4</td>\n",
       "      <td>2</td>\n",
       "      <td>0</td>\n",
       "      <td>0</td>\n",
       "      <td>0</td>\n",
       "      <td>1</td>\n",
       "      <td>...</td>\n",
       "      <td>-827227451.0</td>\n",
       "      <td>1.285404e+09</td>\n",
       "      <td>AV FABIO ARAUJO SANTOS</td>\n",
       "      <td>NaN</td>\n",
       "      <td>CHOQUE</td>\n",
       "      <td>TERÃ‡A-FEIRA</td>\n",
       "      <td>16:50:00.0000000</td>\n",
       "      <td>DIA</td>\n",
       "      <td>SUL</td>\n",
       "      <td>NaN</td>\n",
       "    </tr>\n",
       "    <tr>\n",
       "      <th>4</th>\n",
       "      <td>2024-08-01 01:32:25</td>\n",
       "      <td>8799.0</td>\n",
       "      <td>0.0</td>\n",
       "      <td>2019-01-01 00:00:00</td>\n",
       "      <td>5</td>\n",
       "      <td>0</td>\n",
       "      <td>0</td>\n",
       "      <td>0</td>\n",
       "      <td>0</td>\n",
       "      <td>3</td>\n",
       "      <td>...</td>\n",
       "      <td>-820146494.0</td>\n",
       "      <td>1.288712e+09</td>\n",
       "      <td>AV IPIRANGA</td>\n",
       "      <td>NaN</td>\n",
       "      <td>COLISÃƒO</td>\n",
       "      <td>TERÃ‡A-FEIRA</td>\n",
       "      <td>19:00:00.0000000</td>\n",
       "      <td>NOITE</td>\n",
       "      <td>LESTE</td>\n",
       "      <td>NaN</td>\n",
       "    </tr>\n",
       "  </tbody>\n",
       "</table>\n",
       "<p>5 rows × 34 columns</p>\n",
       "</div>"
      ]
     },
     "execution_count": 22,
     "metadata": {},
     "output_type": "execute_result"
    }
   ],
   "execution_count": 22
  },
  {
   "metadata": {},
   "cell_type": "markdown",
   "source": "## Cria o periodo do dia",
   "id": "5157196ae8fe47a1"
  },
  {
   "metadata": {
    "ExecuteTime": {
     "end_time": "2024-09-01T14:03:36.265844Z",
     "start_time": "2024-09-01T14:03:36.213746Z"
    }
   },
   "cell_type": "code",
   "source": [
    "# Extrair a hora como número inteiro\n",
    "acid.loc[:, 'hora_int'] = pd.to_numeric(acid.hora.str[:2], errors='coerce')\n",
    "\n",
    "# Função para categorizar períodos\n",
    "def categorizar_periodo(hora):\n",
    "    if pd.isnull(hora):\n",
    "        return 'Desconhecido'\n",
    "    elif 6 <= hora < 12:\n",
    "        return 'Manhã'\n",
    "    elif 12 <= hora < 18:\n",
    "        return 'Tarde'\n",
    "    elif 18 <= hora < 22:\n",
    "        return 'Noite'\n",
    "    else:\n",
    "        return 'Madrugada'\n",
    "\n",
    "# Aplicar a categorização\n",
    "acid.loc[:, 'periodo_do_dia'] = acid.hora_int.apply(categorizar_periodo)"
   ],
   "id": "423aea4fe6d87f6a",
   "outputs": [],
   "execution_count": 23
  },
  {
   "metadata": {},
   "cell_type": "markdown",
   "source": "## Ordena e exibe o gráfico",
   "id": "71f8c546400540e"
  },
  {
   "metadata": {
    "ExecuteTime": {
     "end_time": "2024-09-01T14:03:36.299472Z",
     "start_time": "2024-09-01T14:03:36.295437Z"
    }
   },
   "cell_type": "code",
   "source": "periodo_order = acid.periodo_do_dia.value_counts().index",
   "id": "dfb882605f3b5e09",
   "outputs": [],
   "execution_count": 24
  },
  {
   "metadata": {
    "ExecuteTime": {
     "end_time": "2024-09-01T14:03:36.458256Z",
     "start_time": "2024-09-01T14:03:36.318508Z"
    }
   },
   "cell_type": "code",
   "source": "sns.countplot(data=acid, x='periodo_do_dia', order=periodo_order)",
   "id": "5d30ef7ec06617c7",
   "outputs": [
    {
     "data": {
      "text/plain": [
       "<Axes: xlabel='periodo_do_dia', ylabel='count'>"
      ]
     },
     "execution_count": 25,
     "metadata": {},
     "output_type": "execute_result"
    },
    {
     "data": {
      "text/plain": [
       "<Figure size 640x480 with 1 Axes>"
      ],
      "image/png": "[encoded data removed]"
     },
     "metadata": {},
     "output_type": "display_data"
    }
   ],
   "execution_count": 25
  }
 ],
 "metadata": {
  "kernelspec": {
   "display_name": "Python 3",
   "language": "python",
   "name": "python3"
  },
  "language_info": {
   "codemirror_mode": {
    "name": "ipython",
    "version": 2
   },
   "file_extension": ".py",
   "mimetype": "text/x-python",
   "name": "python",
   "nbconvert_exporter": "python",
   "pygments_lexer": "ipython2",
   "version": "2.7.6"
  }
 },
 "nbformat": 4,
 "nbformat_minor": 5
}
